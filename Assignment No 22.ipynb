{
 "cells": [
  {
   "cell_type": "code",
   "execution_count": null,
   "metadata": {},
   "outputs": [],
   "source": [
    "Q1. What is the result of the code, and explain?\n",
    "\n",
    "Solution :-  1. X is a Global variable \n",
    "             2. defining the function as name is func() and print it whatever we declare in x Variable.."
   ]
  },
  {
   "cell_type": "code",
   "execution_count": 1,
   "metadata": {},
   "outputs": [
    {
     "name": "stdout",
     "output_type": "stream",
     "text": [
      "iNeuron\n"
     ]
    }
   ],
   "source": [
    "X = 'iNeuron'\n",
    "\n",
    "def func():\n",
    "    print(X)\n",
    "\n",
    "func()"
   ]
  },
  {
   "cell_type": "code",
   "execution_count": null,
   "metadata": {},
   "outputs": [],
   "source": [
    "Q2. 2. What is the result of the code, and explain?\n",
    "\n",
    "Solution :-  1. First declare a X = 'INeuron' it is a Global Variable bcz its declare outside the function.\n",
    "             2. Defining a function as a name is func() then declear a variable X = 'NI!'.\n",
    "             3. Calling a function \n",
    "             4. printing a message INeuron "
   ]
  },
  {
   "cell_type": "code",
   "execution_count": 2,
   "metadata": {},
   "outputs": [
    {
     "name": "stdout",
     "output_type": "stream",
     "text": [
      "iNeuron\n"
     ]
    }
   ],
   "source": [
    "X = 'iNeuron'\n",
    "\n",
    "def func():\n",
    "    X = 'NI!'\n",
    "\n",
    "\n",
    "func()\n",
    "print(X)"
   ]
  },
  {
   "cell_type": "code",
   "execution_count": null,
   "metadata": {},
   "outputs": [],
   "source": [
    "Q3. What does this code print, and why?\n",
    "\n",
    "Solution :- 1. because we will declear variable outside the function as well as inside the function.\n",
    "            2. 2nd thing is we called print function inside the func() function as well as outside the function."
   ]
  },
  {
   "cell_type": "code",
   "execution_count": 3,
   "metadata": {},
   "outputs": [
    {
     "name": "stdout",
     "output_type": "stream",
     "text": [
      "NI\n",
      "iNeuron\n"
     ]
    }
   ],
   "source": [
    "X = 'iNeuron'\n",
    "def func():\n",
    "    X = 'NI'\n",
    "    print(X)\n",
    "\n",
    "func()\n",
    "print(X)"
   ]
  },
  {
   "cell_type": "code",
   "execution_count": null,
   "metadata": {},
   "outputs": [],
   "source": [
    "Q4. What output does this code produce? Why?\n",
    "\n",
    "Solution :-  1. Eventhough, initially 'X' variable is having a default global scope, \n",
    "             2. The variable 'X' within the func() is explicitly given a global scope, by using the key word 'global'. It makes the 'X' variable\n",
    "             3. Inside the func() global and it is the value of 'X' inside the func() that is made available across the program after \n",
    "             4. The func() call is made. Hence, the value 'NI' is printed when the print('X') is called outside the func() too."
   ]
  },
  {
   "cell_type": "code",
   "execution_count": 4,
   "metadata": {},
   "outputs": [
    {
     "name": "stdout",
     "output_type": "stream",
     "text": [
      "NI\n"
     ]
    }
   ],
   "source": [
    "X = 'iNeuron'\n",
    "\n",
    "def func():\n",
    "    global X\n",
    "    X = 'NI'\n",
    "func()\n",
    "print(X)"
   ]
  },
  {
   "cell_type": "code",
   "execution_count": null,
   "metadata": {},
   "outputs": [],
   "source": [
    "Q5. What about this code—what’s the output, and why?\n",
    "\n",
    "Solution :- 1. As the variable X='iNeuron' has global scope and it is available through out the code block.\n",
    "            2. The another variable X='NI' inside the func() has local scope . Hence it is not available outside func()\n",
    "            3. X='iNeuron' is available inside nested() function and value 'iNeuron' is printed when print(X) is called inside nested() function."
   ]
  },
  {
   "cell_type": "code",
   "execution_count": 7,
   "metadata": {},
   "outputs": [
    {
     "name": "stdout",
     "output_type": "stream",
     "text": [
      "iNeuron\n"
     ]
    },
    {
     "data": {
      "text/plain": [
       "'iNeuron'"
      ]
     },
     "execution_count": 7,
     "metadata": {},
     "output_type": "execute_result"
    }
   ],
   "source": [
    "X = 'iNeuron'\n",
    "\n",
    "def func():\n",
    "    X = 'NI'\n",
    "    \n",
    "def nested():\n",
    "    print(X)\n",
    "    \n",
    "nested()\n",
    "func()\n",
    "X"
   ]
  },
  {
   "cell_type": "code",
   "execution_count": null,
   "metadata": {},
   "outputs": [],
   "source": [
    "Q6. How about this code: what is its output in Python 3, and explain?\n",
    "\n",
    "Solution :- 1. Nonlocal variables are used in nested functions whose local scope is not defined. \n",
    "            2. The variable 'X' inside the function nested() is explicitly defined as nonlocal, which refers to the previous same variable which has nearest enclosing scope which is inside the func(). nested() function is within scope of func() function.\n",
    "            3. Therefore If we change the value of a nonlocal variable, the changes appear in the local variable.\n",
    "            4. when X= 'Spam' is done inside nested() after making X as non local, the local variable X within func(), retains the value 'Spam'."
   ]
  },
  {
   "cell_type": "code",
   "execution_count": null,
   "metadata": {},
   "outputs": [],
   "source": [
    "def func():\n",
    "    X = 'NI'\n",
    "    def nested():\n",
    "        nonlocal X\n",
    "        X = 'Spam'\n",
    "    nested()\n",
    "    print(X)\n",
    "\n",
    "func()"
   ]
  }
 ],
 "metadata": {
  "kernelspec": {
   "display_name": "Python 3",
   "language": "python",
   "name": "python3"
  },
  "language_info": {
   "codemirror_mode": {
    "name": "ipython",
    "version": 3
   },
   "file_extension": ".py",
   "mimetype": "text/x-python",
   "name": "python",
   "nbconvert_exporter": "python",
   "pygments_lexer": "ipython3",
   "version": "3.8.5"
  }
 },
 "nbformat": 4,
 "nbformat_minor": 4
}
