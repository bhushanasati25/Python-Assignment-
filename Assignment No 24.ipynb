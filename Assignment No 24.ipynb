{
 "cells": [
  {
   "cell_type": "code",
   "execution_count": null,
   "metadata": {},
   "outputs": [],
   "source": [
    "Q1. What is the relationship between def statements and lambda expressions ?\n",
    "\n",
    "Solution :- An expression, lambda returns a value that can optionally be assigned a name. In contrast, the def statement always assigns the new function to the name in the header, instead of returning is as a result. lambda's body is a single expression, not a block of statements."
   ]
  },
  {
   "cell_type": "code",
   "execution_count": null,
   "metadata": {},
   "outputs": [],
   "source": [
    "Q2. What is the benefit of lambda?\n",
    "\n",
    "Solution :-  A lambda is an anonymous or inline function which can be defined at the point where it is called. "
   ]
  },
  {
   "cell_type": "code",
   "execution_count": null,
   "metadata": {},
   "outputs": [],
   "source": [
    "Q3. Compare and contrast map, filter, and reduce.\n",
    "\n",
    "Solution :- \n",
    "    \n",
    "1. map - map is function which takes a sequence (e.g. lists, tuples etc) performs a operation on the entire sequence and returns the new sequence\n",
    "\n",
    "2. filter - The filter function operates on a list and returns a subset of that list after applying the filtering rule.\n",
    "\n",
    "3. reduce - The reduce function will transform a given list into a single value by applying a given function continuously to all the elements."
   ]
  },
  {
   "cell_type": "code",
   "execution_count": null,
   "metadata": {},
   "outputs": [],
   "source": [
    "Q4. What are function annotations, and how are they used?\n",
    "\n",
    "Solution :- Function annotations are simply a way to associate arbitrary expressions to function arguments and return values.\n",
    "            Example def func(arg: arg_type, optarg: arg_type = default) -> return_type:"
   ]
  },
  {
   "cell_type": "code",
   "execution_count": null,
   "metadata": {},
   "outputs": [],
   "source": [
    "Q5. What are recursive functions, and how are they used?\n",
    "\n",
    "Solution :- A recursive function is a function that calls itself during its execution. The process may repeat several times, outputting the result and the end of each iteration.\n",
    "            When we call this function with a positive integer, it will recursively call itself by decreasing the number."
   ]
  },
  {
   "cell_type": "code",
   "execution_count": null,
   "metadata": {},
   "outputs": [],
   "source": [
    "Q6. What are some general design guidelines for coding functions?\n",
    "\n",
    "Solution :- Use 4-space indentation and no tabs. ...\n",
    "            There are both single and multi-line docstrings that can be used."
   ]
  },
  {
   "cell_type": "code",
   "execution_count": null,
   "metadata": {},
   "outputs": [],
   "source": [
    "Q7. Name three or more ways that functions can communicate results to a caller.\n",
    "\n",
    "Solution :- 1. Function Definition \n",
    "            2. Function Call\n",
    "            3. Function Output"
   ]
  }
 ],
 "metadata": {
  "kernelspec": {
   "display_name": "Python 3",
   "language": "python",
   "name": "python3"
  },
  "language_info": {
   "codemirror_mode": {
    "name": "ipython",
    "version": 3
   },
   "file_extension": ".py",
   "mimetype": "text/x-python",
   "name": "python",
   "nbconvert_exporter": "python",
   "pygments_lexer": "ipython3",
   "version": "3.8.5"
  }
 },
 "nbformat": 4,
 "nbformat_minor": 4
}
