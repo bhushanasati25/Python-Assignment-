{
 "cells": [
  {
   "cell_type": "markdown",
   "metadata": {},
   "source": [
    "# Assignment No 2"
   ]
  },
  {
   "cell_type": "code",
   "execution_count": null,
   "metadata": {},
   "outputs": [],
   "source": [
    "Q1. What are the two values of the Boolean data type? How do you write them?\n",
    "\n",
    "Solution:- A variable of the primitive data type boolean can have two values true and false \n",
    "           Ex:- A = True \n",
    "                B = False\n",
    "           Ex2:- a = 5\n",
    "                 b = 10\n",
    "                 a<b"
   ]
  },
  {
   "cell_type": "code",
   "execution_count": null,
   "metadata": {},
   "outputs": [],
   "source": [
    "Q2. What are the three different types of Boolean operators?\n",
    "\n",
    "Solution:- There are three types of boolean operators.\n",
    "        1.AND operator (&& or “and”)\n",
    "        2.OR operator (|| or “or”)\n",
    "        3.NOT operator (not)"
   ]
  },
  {
   "cell_type": "code",
   "execution_count": null,
   "metadata": {},
   "outputs": [],
   "source": [
    "Q3 Make a list of each Boolean operator truth tables (i.e. every possible combination of Boolean\n",
    "values for the operator and what it evaluate.\n",
    "\n",
    "Solution:- \n",
    "1. (AND)The and operator takes two arguments. It evaluates to False unless both inputs are True. \n",
    " A         B     A and B\n",
    "True    True      True\n",
    "False   True      False\n",
    "True    False     False\n",
    "False   False     False \n",
    "                                                      \n",
    "2. (OR) The value of the or operator is True unless both of its inputs are False. \n",
    "\n",
    "A        B       A or B\n",
    "True    True     True\n",
    "False   True     True\n",
    "True    False    True\n",
    "False   False    False"
   ]
  },
  {
   "cell_type": "code",
   "execution_count": null,
   "metadata": {},
   "outputs": [],
   "source": [
    "Q4 What are the values of the following expressions?\n",
    "\n",
    "1. (5 > 4) and (3 == 5) :- False\n",
    "2. not (5 > 4) :- False\n",
    "3. (5 > 4) or (3 == 5) :- True\n",
    "4. not ((5 > 4) or (3 == 5)) :- False\n",
    "5. (True and True) and (True == False) :- False\n",
    "6. (not False) or (not True) :- True"
   ]
  },
  {
   "cell_type": "code",
   "execution_count": null,
   "metadata": {},
   "outputs": [],
   "source": [
    "Q5. What are the six comparison operators?\n",
    "\n",
    "Solution :- \n",
    "1. Less than(<)\n",
    "2. Greater than(>)\n",
    "3. Less than or equal to(<=) \n",
    "4. Greater than or equal to(>=)\n",
    "5. Equal to(==)\n",
    "6. Not equal to (!=)."
   ]
  },
  {
   "cell_type": "code",
   "execution_count": null,
   "metadata": {},
   "outputs": [],
   "source": [
    "Q6. How do you tell the difference between the equal to and assignment operators?Describe a\n",
    "condition and when you would use one.\n",
    "\n",
    "Solution:- The “=” is an assignment operator is used to assign the value on the right to the variable on the left. \n",
    "           The '==' operator checks whether the two given operands are equal or not. If so, it returns true. Otherwise it returns false.\n",
    "Ex :- A = 10 #Assign the value by using Assignment Operator\n",
    "      B = 10\n",
    "      A == B #Checking the conditon by using equal to operator."
   ]
  },
  {
   "cell_type": "code",
   "execution_count": null,
   "metadata": {},
   "outputs": [],
   "source": [
    "Q7. Identify the three blocks in this code:\n",
    "    spam = 0\n",
    "    if spam == 10:\n",
    "    print('eggs')\n",
    "    if spam > 5:\n",
    "    print('bacon')\n",
    "    else:\n",
    "    print('ham')\n",
    "    print('spam')\n",
    "    print('spam')\n",
    "\n",
    "Solution :- 1st Declear a Variable spam and Assigned value as 0.\n",
    "            2nd check the condition is spam == 10 if yes then print eggs if no then otherwise terminate the loop.\n",
    "            3rd check the condition if spam > 5 if yes  then print bacon if no then goto else part and print next all statement.\n",
    "            \n",
    "output is the above code :- ham\n",
    "                            spam\n",
    "                            spam"
   ]
  },
  {
   "cell_type": "code",
   "execution_count": null,
   "metadata": {},
   "outputs": [],
   "source": [
    "Q8. Write code that prints Hello if 1 is stored in spam, prints Howdy if 2 is stored in spam, and prints Greetings! if anything else is stored in spam.\n",
    "\n",
    "Solution :- \n",
    "            spam = int(input(\"Enter the Number :- \"))\n",
    "            if spam == 1:\n",
    "                print('Hello')\n",
    "            elif spam == 2 :\n",
    "                print('Howdy')\n",
    "            else:\n",
    "                print('Greetings!')"
   ]
  },
  {
   "cell_type": "code",
   "execution_count": null,
   "metadata": {},
   "outputs": [],
   "source": [
    "Q9. If your programme is stuck in an endless loop, what keys you’ll press?\n",
    "\n",
    "Solution :- if it will Happend at the time of excution then i will press Ctrl + C.\n",
    "            if when i will write a program then i used break keyword for controling loop.. otherwise my code are stuck."
   ]
  },
  {
   "cell_type": "code",
   "execution_count": null,
   "metadata": {},
   "outputs": [],
   "source": [
    "Q10. How can you tell the difference between break and continue?\n",
    "\n",
    "Solution :- \n",
    "\n",
    "    1. Break :- When a break statement is encountered then the control is exited from the loop construct immediately.\n",
    "               syntax :- break\n",
    "                \n",
    "    2. Continue :- When the continue statement is encountered then the control automatically passed from the beginning of the loop statement.\n",
    "                   Syntax :- continue"
   ]
  },
  {
   "cell_type": "code",
   "execution_count": null,
   "metadata": {},
   "outputs": [],
   "source": [
    "Q11. In a for loop, what is the difference between range(10), range(0, 10), and range(0, 10, 1)?\n",
    "\n",
    "Solution :- No such diffrence it will be work same but if we change the 1st 2nd 3rd value then it will be work different."
   ]
  },
  {
   "cell_type": "code",
   "execution_count": null,
   "metadata": {},
   "outputs": [],
   "source": [
    "Q12. Write a short program that prints the numbers 1 to 10 using a for loop. Then write an equivalent program that prints the numbers 1 to 10 using a while loop.\n",
    "\n",
    "Solution :- \n",
    "\n",
    "1. for i in range(0,10):\n",
    "     print(i)\n",
    "        \n",
    "2. i = 0 \n",
    "   while i <= 10:\n",
    "        print(i)\n",
    "        i = i + 1"
   ]
  },
  {
   "cell_type": "code",
   "execution_count": 36,
   "metadata": {},
   "outputs": [
    {
     "name": "stdout",
     "output_type": "stream",
     "text": [
      "0\n",
      "1\n",
      "2\n",
      "3\n",
      "4\n",
      "5\n",
      "6\n",
      "7\n",
      "8\n",
      "9\n"
     ]
    }
   ],
   "source": [
    "for i in range(0,10):\n",
    "    print(i)"
   ]
  },
  {
   "cell_type": "code",
   "execution_count": 9,
   "metadata": {},
   "outputs": [
    {
     "name": "stdout",
     "output_type": "stream",
     "text": [
      "0\n",
      "1\n",
      "2\n",
      "3\n",
      "4\n",
      "5\n",
      "6\n",
      "7\n",
      "8\n",
      "9\n",
      "10\n"
     ]
    }
   ],
   "source": [
    "i = 0 \n",
    "while i <= 10:\n",
    "    print(i)\n",
    "    i = i + 1"
   ]
  },
  {
   "cell_type": "code",
   "execution_count": null,
   "metadata": {},
   "outputs": [],
   "source": [
    "Q13. If you had a function named bacon() inside a module named spam, how would you call it after importing spam?\n",
    "\n",
    "Solution :- This function can be called with spam.bacon()."
   ]
  }
 ],
 "metadata": {
  "kernelspec": {
   "display_name": "Python 3",
   "language": "python",
   "name": "python3"
  },
  "language_info": {
   "codemirror_mode": {
    "name": "ipython",
    "version": 3
   },
   "file_extension": ".py",
   "mimetype": "text/x-python",
   "name": "python",
   "nbconvert_exporter": "python",
   "pygments_lexer": "ipython3",
   "version": "3.8.5"
  }
 },
 "nbformat": 4,
 "nbformat_minor": 4
}
