{
 "cells": [
  {
   "cell_type": "code",
   "execution_count": null,
   "metadata": {},
   "outputs": [],
   "source": [
    "Q1. Make a class called Thing with no contents and print it. Then, create an object called example from this class and also print it. Are the printed values the same or different?\n",
    "\n",
    "Solution :- "
   ]
  },
  {
   "cell_type": "code",
   "execution_count": 1,
   "metadata": {},
   "outputs": [],
   "source": [
    "class thing:\n",
    "    pass"
   ]
  },
  {
   "cell_type": "code",
   "execution_count": 2,
   "metadata": {},
   "outputs": [],
   "source": [
    "class example(thing):\n",
    "    pass"
   ]
  },
  {
   "cell_type": "code",
   "execution_count": 3,
   "metadata": {},
   "outputs": [
    {
     "data": {
      "text/plain": [
       "__main__.example"
      ]
     },
     "execution_count": 3,
     "metadata": {},
     "output_type": "execute_result"
    }
   ],
   "source": [
    "example"
   ]
  },
  {
   "cell_type": "code",
   "execution_count": 4,
   "metadata": {},
   "outputs": [
    {
     "data": {
      "text/plain": [
       "__main__.thing"
      ]
     },
     "execution_count": 4,
     "metadata": {},
     "output_type": "execute_result"
    }
   ],
   "source": [
    "thing"
   ]
  },
  {
   "cell_type": "code",
   "execution_count": null,
   "metadata": {},
   "outputs": [],
   "source": [
    "Q2. Create a new class called Thing2 and add the value 'abc' to the letters class attribute. Letters should be printed.\n",
    "\n",
    "Solution :- "
   ]
  },
  {
   "cell_type": "code",
   "execution_count": 6,
   "metadata": {},
   "outputs": [],
   "source": [
    "class thing2:\n",
    "    letter = \"abc\""
   ]
  },
  {
   "cell_type": "code",
   "execution_count": 8,
   "metadata": {},
   "outputs": [
    {
     "data": {
      "text/plain": [
       "'abc'"
      ]
     },
     "execution_count": 8,
     "metadata": {},
     "output_type": "execute_result"
    }
   ],
   "source": [
    "thing2.letter"
   ]
  },
  {
   "cell_type": "code",
   "execution_count": null,
   "metadata": {},
   "outputs": [],
   "source": [
    "Q3. Make yet another class called, of course, Thing3. This time, assign the value 'xyz' to an instance (object) attribute called letters. Print letters. Do you need to make an object from the class to do this?\n",
    "\n",
    "Solution :- "
   ]
  },
  {
   "cell_type": "code",
   "execution_count": 9,
   "metadata": {},
   "outputs": [
    {
     "data": {
      "text/plain": [
       "'xyz'"
      ]
     },
     "execution_count": 9,
     "metadata": {},
     "output_type": "execute_result"
    }
   ],
   "source": [
    "class thing3:\n",
    "    letters = 'xyz'\n",
    "thing3.letters"
   ]
  },
  {
   "cell_type": "code",
   "execution_count": null,
   "metadata": {},
   "outputs": [],
   "source": [
    "Q4. Create an Element class with the instance attributes name, symbol, and number. Create a class object with the values 'Hydrogen,' 'H,' and 1.\n",
    "\n",
    "\n",
    "Solution :- "
   ]
  },
  {
   "cell_type": "code",
   "execution_count": 11,
   "metadata": {},
   "outputs": [
    {
     "name": "stdout",
     "output_type": "stream",
     "text": [
      "Name: hydrogen Symbol: H Number: 1\n",
      "<__main__.element object at 0x0000024BCAA85430>\n"
     ]
    }
   ],
   "source": [
    "class element:\n",
    "    def __init__(self,name,symbol,number):\n",
    "        self.name = name\n",
    "        self.symbol = symbol\n",
    "        self.number = number\n",
    "        print(\"Name: {} Symbol: {} Number: {}\".format(self.name,self.symbol,self.number))\n",
    "    \n",
    "    \n",
    "value = element('hydrogen', 'H', 1)\n",
    "print(value)"
   ]
  },
  {
   "cell_type": "code",
   "execution_count": null,
   "metadata": {},
   "outputs": [],
   "source": [
    "Q5. Make a dictionary with these keys and values: 'name': 'Hydrogen', 'symbol': 'H', 'number': 1. Then, create an object called hydrogen from class Element using this dictionary.\n",
    "                \n",
    "Solution :-                 "
   ]
  },
  {
   "cell_type": "code",
   "execution_count": 13,
   "metadata": {},
   "outputs": [
    {
     "name": "stdout",
     "output_type": "stream",
     "text": [
      "Name: Hydrogen Symbol: H Number: 1\n",
      "<__main__.element object at 0x0000024BCAA85370>\n"
     ]
    }
   ],
   "source": [
    "ele_dict = {'name': 'Hydrogen', 'symbol': 'H', 'number': 1}\n",
    "hydrogen = element(**ele_dict)\n",
    "print(hydrogen)"
   ]
  },
  {
   "cell_type": "code",
   "execution_count": null,
   "metadata": {},
   "outputs": [],
   "source": [
    "Q6. For the Element class, define a method called dump() that prints the values of the object’s attributes (name, symbol, and number). Create the hydrogen object from this new definition and use dump() to print its attributes.\n",
    "\n",
    "Solution :- "
   ]
  },
  {
   "cell_type": "code",
   "execution_count": 14,
   "metadata": {},
   "outputs": [],
   "source": [
    "class element:\n",
    "    \n",
    "    def dump(self,name,symbol,number):\n",
    "        self.name = name\n",
    "        self.symbol = symbol\n",
    "        self.number = number\n",
    "        print(self.name,self.symbol,self.number)"
   ]
  },
  {
   "cell_type": "code",
   "execution_count": 17,
   "metadata": {},
   "outputs": [
    {
     "name": "stdout",
     "output_type": "stream",
     "text": [
      "Hydrogen H 1\n"
     ]
    }
   ],
   "source": [
    "ele = element()\n",
    "ele.dump(\"Hydrogen\",\"H\",\"1\")"
   ]
  },
  {
   "cell_type": "code",
   "execution_count": null,
   "metadata": {},
   "outputs": [],
   "source": [
    "Q7. Call print(hydrogen). In the definition of Element, change the name of method dump to __str__, create a new hydrogen object, and call print(hydrogen) again.\n",
    "\n",
    "Solution :- "
   ]
  },
  {
   "cell_type": "code",
   "execution_count": 19,
   "metadata": {},
   "outputs": [
    {
     "name": "stdout",
     "output_type": "stream",
     "text": [
      "\n",
      " Name: hydrogen \n",
      " Symbol: H \n",
      " Number: 1\n"
     ]
    }
   ],
   "source": [
    "class element:\n",
    "    def __init__(self,name,symbol,number):\n",
    "        self.name = name\n",
    "        self.symbol = symbol\n",
    "        self.number = number\n",
    "    \n",
    "    def __str__(self):\n",
    "        return \"\\n Name: {} \\n Symbol: {} \\n Number: {}\".format(self.name,self.symbol,self.number)\n",
    "\n",
    "hydrogen = element('hydrogen', 'H', 1)\n",
    "print(hydrogen)"
   ]
  },
  {
   "cell_type": "code",
   "execution_count": null,
   "metadata": {},
   "outputs": [],
   "source": [
    "Q8. Modify Element to make the attributes name, symbol, and number private. Define a getter property for each to return its value.\n",
    "\n",
    "Solution :- "
   ]
  },
  {
   "cell_type": "code",
   "execution_count": 21,
   "metadata": {},
   "outputs": [
    {
     "name": "stdout",
     "output_type": "stream",
     "text": [
      "Welcome to World\n",
      "World\n",
      "25\n"
     ]
    }
   ],
   "source": [
    "class element:\n",
    "    def __init__(self,name,symbol,number):\n",
    "        self.name = name\n",
    "        self.symbol = symbol\n",
    "        self.number = number\n",
    "    def name(self):\n",
    "        return self.__name \n",
    "    def symbol(self):\n",
    "        return self.__symbol \n",
    "    def number(self):\n",
    "        return self.__number\n",
    "ele = element(\"Welcome to World\",\"World\", '25')\n",
    "print(ele.name)\n",
    "print(ele.symbol)\n",
    "print(ele.number)"
   ]
  },
  {
   "cell_type": "code",
   "execution_count": null,
   "metadata": {},
   "outputs": [],
   "source": [
    "Q9. Define three classes: Bear, Rabbit, and Octothorpe. For each, define only one method: eats(). This should return 'berries' (Bear), 'clover' (Rabbit), or 'campers' (Octothorpe). Create one object from each and print what it eats.\n",
    "    \n",
    "Solution :-     "
   ]
  },
  {
   "cell_type": "code",
   "execution_count": 22,
   "metadata": {},
   "outputs": [],
   "source": [
    "class bear:\n",
    "    def eat(self):\n",
    "        return \"berries\"\n",
    "\n",
    "class rabbit:\n",
    "    def eat(self):\n",
    "        return \"clover\"\n",
    "\n",
    "class octothorpe:\n",
    "    def eat(self):\n",
    "        return \"campers\""
   ]
  },
  {
   "cell_type": "code",
   "execution_count": 24,
   "metadata": {},
   "outputs": [
    {
     "name": "stdout",
     "output_type": "stream",
     "text": [
      "berries\n",
      "clover\n",
      "campers\n"
     ]
    }
   ],
   "source": [
    "b = bear()\n",
    "r = rabbit()\n",
    "o = octothorpe()\n",
    "\n",
    "print(b.eat())\n",
    "print(r.eat())\n",
    "print(o.eat())"
   ]
  },
  {
   "cell_type": "code",
   "execution_count": null,
   "metadata": {},
   "outputs": [],
   "source": [
    "Q10. Define these classes: Laser, Claw, and SmartPhone. Each has only one method: does(). This returns 'disintegrate' (Laser), 'crush' (Claw), or 'ring' (SmartPhone). Then, define the class Robot that has one instance (object) of each of these. Define a does() method for the Robot that prints what its component objects do.\n",
    "        \n",
    "Solution :-         "
   ]
  },
  {
   "cell_type": "code",
   "execution_count": 25,
   "metadata": {},
   "outputs": [
    {
     "name": "stdout",
     "output_type": "stream",
     "text": [
      "disintegrate\n",
      "crush\n",
      "ring\n"
     ]
    }
   ],
   "source": [
    "class laser:\n",
    "    def does(self):\n",
    "        return \"disintegrate\"\n",
    "    \n",
    "class claw:\n",
    "    def does(self):\n",
    "        return \"crush\"\n",
    "    \n",
    "class smartphone:\n",
    "    def does(self):\n",
    "        return \"ring\"\n",
    "    \n",
    "class robot:\n",
    "    def __init__(self, laser, claw, smartphone):\n",
    "        self.laser = laser\n",
    "        self.claw = claw\n",
    "        self.smartphone = smartphone\n",
    "    \n",
    "    def does(self):\n",
    "        print(self.laser.does())\n",
    "        print(self.claw.does())\n",
    "        print(self.smartphone.does())\n",
    "        \n",
    "l = laser()\n",
    "c = claw()\n",
    "s = smartphone()\n",
    "robot = robot(l,c,s)\n",
    "robot.does()"
   ]
  },
  {
   "cell_type": "code",
   "execution_count": null,
   "metadata": {},
   "outputs": [],
   "source": []
  }
 ],
 "metadata": {
  "kernelspec": {
   "display_name": "Python 3",
   "language": "python",
   "name": "python3"
  },
  "language_info": {
   "codemirror_mode": {
    "name": "ipython",
    "version": 3
   },
   "file_extension": ".py",
   "mimetype": "text/x-python",
   "name": "python",
   "nbconvert_exporter": "python",
   "pygments_lexer": "ipython3",
   "version": "3.8.5"
  }
 },
 "nbformat": 4,
 "nbformat_minor": 4
}
