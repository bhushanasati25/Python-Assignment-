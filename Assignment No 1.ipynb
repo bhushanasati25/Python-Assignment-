{
 "cells": [
  {
   "cell_type": "markdown",
   "metadata": {},
   "source": [
    "# Assignment No 1"
   ]
  },
  {
   "cell_type": "markdown",
   "metadata": {},
   "source": [
    "\n",
    "\n",
    "Q1. In the below elements which of them are values or an expression?\n",
    "eg:- values can be integer or string and expressions will be mathematical operators.\n",
    "Solution: - \n",
    "1. (*) - Multiplication Symbol\n",
    "2. (hello) – String\n",
    "3. (-87.8) – Float Value\n",
    "4. (-) Subtraction\n",
    "5. (/) Division\n",
    "6. (+) Addition\n",
    "7. (6) Integer\n",
    "\n",
    "Q2. What is the difference between string and variable?\n",
    "Solution: -\n",
    "1. String: - A string is the values inside the quotes assigned to a string.\n",
    "Ex :- a = “Hello” # Hello is a String\n",
    "2. Variable: -A variable is basically the name of the location in the primary memory of your computer. This can be chosen by you. A variable can store everything from strings to numbers.\n",
    "Ex :-  a = “Hello” #a is variable.\n",
    "\n",
    "Q3. Describe three different data types?\n",
    "Solution: - \n",
    "1.\tIntegers – This value is represented by int class. It contains positive or negative whole numbers (without fraction or decimal).\n",
    "2.\tFloat – This value is represented by float class. It is a real number with floating point representation. It is specified by a decimal point.\n",
    "3.\tComplex Numbers – Complex number is represented by complex class. It is specified as (real part) + (imaginary part) j. For example – 2+3j.\n",
    "\n",
    "\n",
    "Q4. What is an expression made up of? What do all expressions do?\n",
    "Solution: - An expression is a combination of values, variables, operators, and calls to functions. Expressions need to be evaluated.\n",
    " Ex:- print(1 + 1), print(“Hello”)\n",
    "\n",
    "Q5. This assignment statements, like spam = 10. What is the difference between an expression and a statement?\n",
    "Solution: - The Assignment statement is spam is a variable & 10 is a value to assign a spam variable.\n",
    "1.\tExpression: - A Python expression can be defined as any element in our program that evaluates to some value.\n",
    "2.\tStatement: - A statement does something. Statements represent an action or command e.g print statements, assignment statements.\n",
    "\n",
    "Q6. After running the following code, what does the variable bacon contain?\n",
    "       bacon = 22\n",
    "       bacon + 1 \n",
    "Solution :-  23\n",
    "\n",
    "Q7. What should the values of the following two terms be?\n",
    "         spam + spamspam\n",
    "         spam * 3\n",
    "Solution: - spamspamspam\n",
    "\n",
    "Q8. Why is eggs a valid variable name while 100 is invalid?\n",
    "Solution: -  Because a variable name must start with a letter or the underscore character. A variable name cannot start with a number that’s why 100 is invalid.\n",
    "\n",
    "Q9. What three functions can be used to get the integer, floating-point number, or string\n",
    "version of a value?\n",
    "\n",
    "Solution: - The int(), float(), and str() functions will evaluate to the integer, floating-point number, and string versions of the value passed to them.\n",
    "\n",
    "Q10. Why does this expression cause an error? How can you fix it?\n",
    "         ‘I have eaten ‘ + 99 +’ burritos’\n",
    "Solution :- The expression causes an error because 99 is an integer, and only strings can be concatenated to other strings with the + operator. The correct way is I have eaten ' + str(99) + ' burritos. ' \n"
   ]
  },
  {
   "cell_type": "code",
   "execution_count": null,
   "metadata": {},
   "outputs": [],
   "source": []
  }
 ],
 "metadata": {
  "kernelspec": {
   "display_name": "Python 3",
   "language": "python",
   "name": "python3"
  },
  "language_info": {
   "codemirror_mode": {
    "name": "ipython",
    "version": 3
   },
   "file_extension": ".py",
   "mimetype": "text/x-python",
   "name": "python",
   "nbconvert_exporter": "python",
   "pygments_lexer": "ipython3",
   "version": "3.8.5"
  }
 },
 "nbformat": 4,
 "nbformat_minor": 4
}
