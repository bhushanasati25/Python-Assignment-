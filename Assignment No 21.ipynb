{
 "cells": [
  {
   "cell_type": "code",
   "execution_count": null,
   "metadata": {},
   "outputs": [],
   "source": [
    "Q1. Add the current date to the text file today.txt as a string.\n",
    "\n",
    "Solution :- "
   ]
  },
  {
   "cell_type": "code",
   "execution_count": 2,
   "metadata": {},
   "outputs": [
    {
     "name": "stdout",
     "output_type": "stream",
     "text": [
      "Current date: 2021 07 12\n"
     ]
    }
   ],
   "source": [
    "from datetime import date, datetime, time\n",
    "import os\n",
    "today=datetime.today()\n",
    "currentday=today.strftime('%Y %m %d')\n",
    "print(\"Current date:\",currentday)\n",
    "f=open('today.txt','w+')\n",
    "f.write(currentday)\n",
    "f.close()"
   ]
  },
  {
   "cell_type": "code",
   "execution_count": null,
   "metadata": {},
   "outputs": [],
   "source": [
    "Q2. Read the text file today.txt into the string today_string.\n",
    "\n",
    "Solution :- "
   ]
  },
  {
   "cell_type": "code",
   "execution_count": 4,
   "metadata": {},
   "outputs": [],
   "source": [
    "text = open('today.txt','r')\n",
    "today_string =text.read()\n",
    "text.close()"
   ]
  },
  {
   "cell_type": "code",
   "execution_count": 5,
   "metadata": {},
   "outputs": [
    {
     "data": {
      "text/plain": [
       "'2021 07 12'"
      ]
     },
     "execution_count": 5,
     "metadata": {},
     "output_type": "execute_result"
    }
   ],
   "source": [
    "today_string"
   ]
  },
  {
   "cell_type": "code",
   "execution_count": null,
   "metadata": {},
   "outputs": [],
   "source": [
    "Q3. Parse the date from today_string.\n",
    "\n",
    "Solution :- "
   ]
  },
  {
   "cell_type": "code",
   "execution_count": 7,
   "metadata": {},
   "outputs": [
    {
     "name": "stdout",
     "output_type": "stream",
     "text": [
      "Parseing date from today_string: 2021-07-12\n"
     ]
    }
   ],
   "source": [
    "print(\"Parseing date from today_string:\",format(datetime.date(datetime.strptime(today_string, '%Y %m %d'))))"
   ]
  },
  {
   "cell_type": "code",
   "execution_count": null,
   "metadata": {},
   "outputs": [],
   "source": [
    "Q4. List the files in your current directory.\n",
    "\n",
    "Solution :- "
   ]
  },
  {
   "cell_type": "code",
   "execution_count": 8,
   "metadata": {},
   "outputs": [
    {
     "name": "stdout",
     "output_type": "stream",
     "text": [
      "C:\\Users\\bhush\\Desktop\\Meachine Learning\\Full Stack Data Scientits Courses - ineuron\\Python\\Assignments\\Python Baisc Assignments\\Assignment No 21\\.ipynb_checkpoints\n",
      "C:\\Users\\bhush\\Desktop\\Meachine Learning\\Full Stack Data Scientits Courses - ineuron\\Python\\Assignments\\Python Baisc Assignments\\Assignment No 21\\Assignment No 21.ipynb\n",
      "C:\\Users\\bhush\\Desktop\\Meachine Learning\\Full Stack Data Scientits Courses - ineuron\\Python\\Assignments\\Python Baisc Assignments\\Assignment No 21\\Assignment_21.docx\n",
      "C:\\Users\\bhush\\Desktop\\Meachine Learning\\Full Stack Data Scientits Courses - ineuron\\Python\\Assignments\\Python Baisc Assignments\\Assignment No 21\\today.txt\n",
      "C:\\Users\\bhush\\Desktop\\Meachine Learning\\Full Stack Data Scientits Courses - ineuron\\Python\\Assignments\\Python Baisc Assignments\\Assignment No 21\\~$signment_21.docx\n"
     ]
    }
   ],
   "source": [
    "import os\n",
    "import shutil\n",
    "for files in os.listdir():\n",
    "    print(os.path.join(os.getcwd(),files))"
   ]
  },
  {
   "cell_type": "code",
   "execution_count": null,
   "metadata": {},
   "outputs": [],
   "source": [
    "Q5. Create a list of all of the files in your parent directory (minimum five files should be available).\n",
    "\n",
    "Solution :- "
   ]
  },
  {
   "cell_type": "code",
   "execution_count": 9,
   "metadata": {},
   "outputs": [
    {
     "name": "stdout",
     "output_type": "stream",
     "text": [
      "['.ipynb_checkpoints', 'Assignment No 21.ipynb', 'Assignment_21.docx', 'today.txt', '~$signment_21.docx']\n"
     ]
    }
   ],
   "source": [
    "import os\n",
    "import shutil\n",
    "file = []\n",
    "for files in os.listdir():\n",
    "    file.append(files)  \n",
    "print(file)"
   ]
  },
  {
   "cell_type": "code",
   "execution_count": null,
   "metadata": {},
   "outputs": [],
   "source": [
    "Q6. Use multiprocessing to create three separate processes. Make each one wait a random number of seconds between one and five, print the current time, and then exit.\n",
    "\n",
    "Solution :- "
   ]
  },
  {
   "cell_type": "code",
   "execution_count": null,
   "metadata": {},
   "outputs": [],
   "source": [
    "Q7. Create a date object of your day of birth.\n",
    "\n",
    "Solution :- "
   ]
  },
  {
   "cell_type": "code",
   "execution_count": 11,
   "metadata": {},
   "outputs": [
    {
     "name": "stdout",
     "output_type": "stream",
     "text": [
      "My Data of Birth is 2000-09-27\n"
     ]
    }
   ],
   "source": [
    "from datetime import timedelta, date, datetime\n",
    "dateofbirth = date(2000,9,27)\n",
    "print(\"My Data of Birth is {}\".format(dateofbirth))"
   ]
  },
  {
   "cell_type": "code",
   "execution_count": null,
   "metadata": {},
   "outputs": [],
   "source": [
    "Q8. What day of the week was your day of birth?\n",
    "\n",
    "Solution :- "
   ]
  },
  {
   "cell_type": "code",
   "execution_count": 12,
   "metadata": {},
   "outputs": [
    {
     "name": "stdout",
     "output_type": "stream",
     "text": [
      "Week day of my Date of Birth is Wednesday\n"
     ]
    }
   ],
   "source": [
    "week = dateofbirth.strftime('%A')\n",
    "print(\"Week day of my Date of Birth is {}\".format(week))"
   ]
  },
  {
   "cell_type": "code",
   "execution_count": null,
   "metadata": {},
   "outputs": [],
   "source": [
    "Q9. When will you be (or when were you) 10,000 days old?\n",
    "\n",
    "Solution :- "
   ]
  },
  {
   "cell_type": "code",
   "execution_count": 14,
   "metadata": {},
   "outputs": [
    {
     "name": "stdout",
     "output_type": "stream",
     "text": [
      "After 10,000 days from Date of Birth it will be 2003-06-24\n"
     ]
    }
   ],
   "source": [
    "old = dateofbirth + timedelta(days=1000)\n",
    "\n",
    "print(\"After 10,000 days from Date of Birth it will be {}\".format(old))"
   ]
  }
 ],
 "metadata": {
  "kernelspec": {
   "display_name": "Python 3",
   "language": "python",
   "name": "python3"
  },
  "language_info": {
   "codemirror_mode": {
    "name": "ipython",
    "version": 3
   },
   "file_extension": ".py",
   "mimetype": "text/x-python",
   "name": "python",
   "nbconvert_exporter": "python",
   "pygments_lexer": "ipython3",
   "version": "3.8.5"
  }
 },
 "nbformat": 4,
 "nbformat_minor": 4
}
